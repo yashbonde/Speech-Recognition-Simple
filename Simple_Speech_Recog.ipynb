{
 "cells": [
  {
   "cell_type": "markdown",
   "metadata": {},
   "source": [
    "# Speech Recognition Model\n",
    "This is a very simple keras implementation of a speech recognition model, which will take in dynamic length sounds and predict the text."
   ]
  },
  {
   "cell_type": "code",
   "execution_count": 1,
   "metadata": {},
   "outputs": [
    {
     "name": "stderr",
     "output_type": "stream",
     "text": [
      "Using TensorFlow backend.\n"
     ]
    }
   ],
   "source": [
    "import glob # file management\n",
    "import os # saving the models\n",
    "import re # NLP\n",
    "import nltk # NLP\n",
    "import numpy as np # matrix math\n",
    "import codecs # for codecs\n",
    "import scipy.io.wavfile as wvf # importing .wav files\n",
    "import matplotlib.pyplot as plt # plotting of waveforms\n",
    "%matplotlib inline\n",
    "from keras.preprocessing.sequence import pad_sequences\n",
    "from keras.models import Sequential\n",
    "from keras.layers import Dense, LSTM"
   ]
  },
  {
   "cell_type": "code",
   "execution_count": 2,
   "metadata": {},
   "outputs": [
    {
     "name": "stdout",
     "output_type": "stream",
     "text": [
      "[%]Total number of unique words is: 1441\n"
     ]
    }
   ],
   "source": [
    "'''DATA LOADING'''\n",
    "\n",
    "'''Loading the text files which contain the text of the sounds'''\n",
    "\n",
    "# folders which has folders in it\n",
    "files_text = glob.glob('~/Audio_Exps/VCTK-Corpus/txt/p239/*.txt')\n",
    "\n",
    "# making the whole corpus\n",
    "corpus = u\"\"\n",
    "for file_path in files_text:\n",
    "    f = codecs.open(file_path, 'r', 'utf-8')\n",
    "    corpus += f.read()\n",
    "\n",
    "# tokenising the text\n",
    "tokenizer = nltk.data.load('tokenizers/punkt/english.pickle')\n",
    "sentencesList = tokenizer.tokenize(corpus)\n",
    "\n",
    "def sentence_to_wordlist(raw):\n",
    "    clean = re.sub(\"[^a-zA-Z]\",\" \", raw)\n",
    "    words = clean.split()\n",
    "    return words\n",
    "\n",
    "#sentence where each word is tokenized\n",
    "sentences = []\n",
    "tokens = []\n",
    "for raw_sentence in sentencesList:\n",
    "    if len(raw_sentence) > 0:\n",
    "        t = sentence_to_wordlist(raw_sentence)\n",
    "        sentences.append(t)\n",
    "        tokens.extend(t)\n",
    "\n",
    "tokens = sorted(list(set(tokens)))\n",
    "print('[%]Total number of unique words is:',len(tokens))"
   ]
  },
  {
   "cell_type": "code",
   "execution_count": 16,
   "metadata": {
    "collapsed": true
   },
   "outputs": [],
   "source": [
    "# making a word2id dictionary\n",
    "word2id = dict((c,i) for i,c in enumerate(tokens))"
   ]
  },
  {
   "cell_type": "code",
   "execution_count": 3,
   "metadata": {
    "collapsed": true
   },
   "outputs": [],
   "source": [
    "'''Loading the corresponding audio files'''\n",
    "files_audio = glob.glob('~/Audio_Exps/VCTK-Corpus/wav48/p239/*.wav')\n",
    "total_audio = np.array([wvf.read(f)[1] for f in files_audio])"
   ]
  },
  {
   "cell_type": "code",
   "execution_count": 4,
   "metadata": {},
   "outputs": [
    {
     "name": "stdout",
     "output_type": "stream",
     "text": [
      "Sample text and its audio\n",
      "['She', 'can', 'scoop', 'these', 'things', 'into', 'three', 'red', 'bags', 'and', 'we', 'will', 'go', 'meet', 'her', 'Wednesday', 'at', 'the', 'train', 'station']\n"
     ]
    },
    {
     "data": {
      "text/plain": [
       "[<matplotlib.lines.Line2D at 0x1259cdd68>]"
      ]
     },
     "execution_count": 4,
     "metadata": {},
     "output_type": "execute_result"
    },
    {
     "data": {
      "image/png": "[encoded data removed]",
      "text/plain": [
       "<matplotlib.figure.Figure at 0x11c55aef0>"
      ]
     },
     "metadata": {},
     "output_type": "display_data"
    }
   ],
   "source": [
    "print('Sample text and its audio')\n",
    "print(sentences[4])\n",
    "plt.plot(total_audio[4])"
   ]
  },
  {
   "cell_type": "code",
   "execution_count": 5,
   "metadata": {},
   "outputs": [
    {
     "name": "stdout",
     "output_type": "stream",
     "text": [
      "[%]Maximum length of sound: 452661\n",
      "[%]Maximum length of text: 36\n"
     ]
    }
   ],
   "source": [
    "# making the audio array of constant size so that it can be fed into the LSTM Layers\n",
    "maxlen_audio = max([len(a) for a in total_audio])\n",
    "maxlen_text = max([len(s) for s in sentences])\n",
    "print('[%]Maximum length of sound:', maxlen_audio)\n",
    "print('[%]Maximum length of text:', maxlen_text)\n",
    "\n",
    "# Hyperparam\n",
    "e_dim = 1000 # this is the size of embedding vector\n",
    "maxlen_audio = int(maxlen_audio/1000 + 1) * 1000"
   ]
  },
  {
   "cell_type": "code",
   "execution_count": 6,
   "metadata": {
    "collapsed": true
   },
   "outputs": [],
   "source": [
    "# coverting the data to proper vectors\n",
    "data_x = []\n",
    "for a in total_audio:\n",
    "    temp = []\n",
    "    for x in a:\n",
    "        temp.append(x)\n",
    "    data_x.append(temp)\n",
    "data_x = np.array(data_x)"
   ]
  },
  {
   "cell_type": "code",
   "execution_count": 15,
   "metadata": {},
   "outputs": [
    {
     "name": "stdout",
     "output_type": "stream",
     "text": [
      "[!]Before Padding, shape of total_audio: (503,)\n",
      "[*]Shape of data_x: (503, 453000)\n"
     ]
    }
   ],
   "source": [
    "# Making the audio of constant size\n",
    "print('[!]Before Padding, shape of total_audio:', total_audio.shape)\n",
    "data_x = pad_sequences(sequences = data_x, maxlen = maxlen_audio)\n",
    "print('[*]Shape of data_x:', data_x.shape)"
   ]
  },
  {
   "cell_type": "code",
   "execution_count": 20,
   "metadata": {},
   "outputs": [
    {
     "name": "stdout",
     "output_type": "stream",
     "text": [
      "[*]Shape of data_y: (503, 1441)\n"
     ]
    }
   ],
   "source": [
    "data_y = np.zeros(shape = (len(data_x), len(tokens)))\n",
    "for i,s in enumerate(sentences):\n",
    "    for t in s:\n",
    "        data_y[i][word2id[t]] = 1.0\n",
    "print('[*]Shape of data_y:',data_y.shape)"
   ]
  },
  {
   "cell_type": "code",
   "execution_count": 26,
   "metadata": {},
   "outputs": [
    {
     "name": "stdout",
     "output_type": "stream",
     "text": [
      "[*]Shape of input_data: (503, 453, 1000)\n"
     ]
    }
   ],
   "source": [
    "# need to convert the data_x to proper shape\n",
    "input_data = []\n",
    "for a in data_x:\n",
    "    input_data.append(np.reshape(a, [-1, e_dim]))\n",
    "input_data = np.array(input_data)\n",
    "print('[*]Shape of input_data:', input_data.shape)"
   ]
  },
  {
   "cell_type": "code",
   "execution_count": null,
   "metadata": {},
   "outputs": [
    {
     "name": "stdout",
     "output_type": "stream",
     "text": [
      "Epoch 1/16\n"
     ]
    }
   ],
   "source": [
    "# Now making the model\n",
    "model = Sequential()\n",
    "model.add(LSTM(units = 1000, input_shape = (453, e_dim)))\n",
    "model.add(Dense(2000, activation = 'relu'))\n",
    "model.add(Dense(len(tokens), activation = 'softmax'))\n",
    "model.compile('Adam', loss='categorical_crossentropy',metrics=['accuracy'])\n",
    "model.fit(input_data, data_y, epochs = 16, batch_size = 64)"
   ]
  },
  {
   "cell_type": "code",
   "execution_count": null,
   "metadata": {
    "collapsed": true
   },
   "outputs": [],
   "source": []
  }
 ],
 "metadata": {
  "kernelspec": {
   "display_name": "Python 3",
   "language": "python",
   "name": "python3"
  },
  "language_info": {
   "codemirror_mode": {
    "name": "ipython",
    "version": 3
   },
   "file_extension": ".py",
   "mimetype": "text/x-python",
   "name": "python",
   "nbconvert_exporter": "python",
   "pygments_lexer": "ipython3",
   "version": "3.6.1"
  }
 },
 "nbformat": 4,
 "nbformat_minor": 2
}
